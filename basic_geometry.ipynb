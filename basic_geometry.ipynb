{
 "cells": [
  {
   "cell_type": "code",
   "execution_count": 1,
   "metadata": {},
   "outputs": [
    {
     "name": "stdout",
     "output_type": "stream",
     "text": [
      "Requirement already satisfied: plotly in /Users/amichayoren/venv/geo/lib/python3.9/site-packages (4.13.0)\r\n",
      "Requirement already satisfied: retrying>=1.3.3 in /Users/amichayoren/venv/geo/lib/python3.9/site-packages (from plotly) (1.3.3)\r\n",
      "Requirement already satisfied: six in /Users/amichayoren/venv/geo/lib/python3.9/site-packages (from plotly) (1.15.0)\r\n",
      "Requirement already satisfied: six in /Users/amichayoren/venv/geo/lib/python3.9/site-packages (from plotly) (1.15.0)\r\n"
     ]
    }
   ],
   "source": [
    "!pip install plotly\n",
    "from typing import Tuple\n",
    "import math\n",
    "import plotly.graph_objects as go"
   ]
  },
  {
   "cell_type": "markdown",
   "metadata": {},
   "source": [
    "## basics"
   ]
  },
  {
   "cell_type": "code",
   "execution_count": 2,
   "metadata": {},
   "outputs": [],
   "source": [
    "def distance(x1: float, y1: float, x2: float, y2: float) -> float:\n",
    "    return math.sqrt((x1 - x2)**2 + (y1 - y2)**2)"
   ]
  },
  {
   "cell_type": "code",
   "execution_count": 3,
   "metadata": {},
   "outputs": [],
   "source": [
    "grid_size = 1000\n",
    "xs = [-grid_size, 0, grid_size]\n",
    "ys = [-grid_size, 0, grid_size]\n",
    "colors=[\"black\", \"black\", \"black\"]"
   ]
  },
  {
   "cell_type": "markdown",
   "metadata": {},
   "source": [
    "### Line"
   ]
  },
  {
   "cell_type": "code",
   "execution_count": 4,
   "metadata": {},
   "outputs": [],
   "source": [
    "def f(x: float, a: float, b: float):\n",
    "    return a * x + b "
   ]
  },
  {
   "cell_type": "code",
   "execution_count": 5,
   "metadata": {},
   "outputs": [],
   "source": [
    "a = 0\n",
    "b = 0"
   ]
  },
  {
   "cell_type": "code",
   "execution_count": 6,
   "metadata": {},
   "outputs": [],
   "source": [
    "for x in range (-grid_size, grid_size):\n",
    "    for y in range (-grid_size, grid_size):\n",
    "        if y == f(float(x), float(a), float(b)):\n",
    "            xs.append(x)\n",
    "            ys.append(y)"
   ]
  },
  {
   "cell_type": "markdown",
   "metadata": {},
   "source": [
    "### Circle"
   ]
  },
  {
   "cell_type": "code",
   "execution_count": 7,
   "metadata": {},
   "outputs": [],
   "source": [
    "focus = (200., 200.)\n",
    "radius = 100."
   ]
  },
  {
   "cell_type": "code",
   "execution_count": 8,
   "metadata": {},
   "outputs": [],
   "source": [
    "def circle(color:str):\n",
    "    for x in range (-grid_size, grid_size):\n",
    "        for y in range (-grid_size, grid_size):\n",
    "            if round(distance(float(x), float(y), focus[0], focus[1]),0) == radius:\n",
    "                xs.append(x)\n",
    "                ys.append(y)\n",
    "                colors.append(color)\n",
    "                "
   ]
  },
  {
   "cell_type": "code",
   "execution_count": 9,
   "metadata": {},
   "outputs": [],
   "source": [
    "circle(\"red\")"
   ]
  },
  {
   "cell_type": "markdown",
   "metadata": {},
   "source": [
    "### Elipse"
   ]
  },
  {
   "cell_type": "code",
   "execution_count": 10,
   "metadata": {},
   "outputs": [],
   "source": [
    "def curve(e: float, color:str):\n",
    "    for x in range (-grid_size, grid_size):\n",
    "        for y in range (-grid_size, grid_size):\n",
    "            if distance(\n",
    "                float(x), float(y), float(x), f(float(x), float(a), float(b))\n",
    "            ):\n",
    "                if round(distance(\n",
    "                    float(x), float(y), focus[0], focus[1]\n",
    "                ) / distance(\n",
    "                    float(x), float(y), float(x), f(float(x), float(a), float(b))\n",
    "                ),3) == e:\n",
    "                    xs.append(x)\n",
    "                    ys.append(y)  \n",
    "                    colors.append(color)\n",
    " \n"
   ]
  },
  {
   "cell_type": "code",
   "execution_count": null,
   "metadata": {},
   "outputs": [],
   "source": [
    "curve(0.8, \"blue\") # elipse\n",
    "curve(1.0, \"green\") # para-bola\n",
    "curve(2.0, \"purple\") # hyper-bola\n",
    "curve(3.0, \"purple\") # hyper-bola"
   ]
  },
  {
   "cell_type": "markdown",
   "metadata": {},
   "source": [
    "## Draw"
   ]
  },
  {
   "cell_type": "code",
   "execution_count": null,
   "metadata": {
    "scrolled": false
   },
   "outputs": [],
   "source": [
    "fig = go.Figure(data=go.Scatter(x=xs, y=ys, mode='markers'))\n",
    "fig.update_layout(\n",
    "    autosize=False,\n",
    "    width=1000,\n",
    "    height=1000,)\n",
    "fig.show()"
   ]
  }
 ],
 "metadata": {
  "kernelspec": {
   "display_name": "Python 3",
   "language": "python",
   "name": "python3"
  },
  "language_info": {
   "codemirror_mode": {
    "name": "ipython",
    "version": 3
   },
   "file_extension": ".py",
   "mimetype": "text/x-python",
   "name": "python",
   "nbconvert_exporter": "python",
   "pygments_lexer": "ipython3",
   "version": "3.9.0"
  }
 },
 "nbformat": 4,
 "nbformat_minor": 4
}
